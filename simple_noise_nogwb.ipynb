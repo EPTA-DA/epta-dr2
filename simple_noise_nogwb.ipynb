{
 "cells": [
  {
   "cell_type": "code",
   "execution_count": null,
   "metadata": {
    "collapsed": true
   },
   "outputs": [],
   "source": [
    "from __future__ import division\n",
    "import numpy as np\n",
    "import glob\n",
    "import cPickle as pickle\n",
    "import scipy.linalg as sl\n",
    "import scipy.special as ss\n",
    "\n",
    "import enterprise\n",
    "from enterprise.signals import parameter\n",
    "from enterprise.pulsar import Pulsar\n",
    "from enterprise.signals import selections\n",
    "from enterprise.signals import signal_base\n",
    "from enterprise.signals import white_signals\n",
    "from enterprise.signals import gp_signals\n",
    "from enterprise.signals import deterministic_signals\n",
    "import enterprise.constants as const\n",
    "from enterprise.signals import utils\n",
    "\n",
    "import libstempo as t2\n",
    "\n",
    "from PTMCMCSampler.PTMCMCSampler import PTSampler as ptmcmc\n",
    "import os\n",
    "import json\n"
   ]
  },
  {
   "cell_type": "markdown",
   "metadata": {},
   "source": [
    "## Utility functions"
   ]
  },
  {
   "cell_type": "code",
   "execution_count": null,
   "metadata": {
    "collapsed": true
   },
   "outputs": [],
   "source": [
    "class JumpProposal(object):\n",
    "    \n",
    "    def __init__(self, pta):\n",
    "        \"\"\"Set up some custom jump proposals\n",
    "        \n",
    "        :param params: A list of `enterprise` parameters\n",
    "        \n",
    "        \"\"\"\n",
    "        self.params = pta.params\n",
    "        self.npar = len(pta.params)\n",
    "        self.ndim = sum(p.size or 1 for p in pta.params)\n",
    "        \n",
    "        # parameter map\n",
    "        self.pmap = {}\n",
    "        ct = 0\n",
    "        for p in pta.params:\n",
    "            size = p.size or 1\n",
    "            self.pmap[p] = slice(ct, ct+size)\n",
    "            ct += size\n",
    "            \n",
    "        # parameter indices map\n",
    "        self.pimap = {}\n",
    "        for ct, p in enumerate(pta.param_names):\n",
    "            self.pimap[p] = ct\n",
    "            \n",
    "        self.snames = {}\n",
    "        for sc in pta._signalcollections:\n",
    "            for signal in sc._signals:\n",
    "                self.snames[signal.signal_name] = signal.params\n",
    "        \n",
    "    def draw_from_prior(self, x, iter, beta):\n",
    "        \"\"\"Prior draw.\n",
    "        \n",
    "        The function signature is specific to PTMCMCSampler.\n",
    "        \"\"\"\n",
    "        \n",
    "        q = x.copy()\n",
    "        lqxy = 0\n",
    "        \n",
    "        # randomly choose parameter\n",
    "        idx = np.random.randint(0, self.npar)\n",
    "        \n",
    "        # if vector parameter jump in random component\n",
    "        param = self.params[idx]\n",
    "        if param.size:\n",
    "            idx2 = np.random.randint(0, param.size)\n",
    "            q[self.pmap[param]][idx2] = param.sample()[idx2]\n",
    "\n",
    "        # scalar parameter\n",
    "        else:\n",
    "            q[idx] = param.sample()\n",
    "        \n",
    "        # forward-backward jump probability\n",
    "        lqxy = param.get_logpdf(x[self.pmap[param]]) - param.get_logpdf(q[self.pmap[param]])\n",
    "                \n",
    "        return q, float(lqxy)\n",
    "    \n",
    "# utility function for finding global parameters\n",
    "def get_global_parameters(pta):\n",
    "    pars = []\n",
    "    for sc in pta._signalcollections:\n",
    "        pars.extend(sc.param_names)\n",
    "    \n",
    "    gpars = np.unique(filter(lambda x: pars.count(x)>1, pars))\n",
    "    ipars = np.array([p for p in pars if p not in gpars])\n",
    "        \n",
    "    return gpars, ipars\n",
    "\n",
    "# utility function to get parameter groupings for sampling\n",
    "def get_parameter_groups(pta):\n",
    "    ndim = len(pta.param_names)\n",
    "    groups  = [range(0, ndim)]\n",
    "    params = pta.param_names\n",
    "    \n",
    "    # get global and individual parameters\n",
    "    gpars, ipars = get_global_parameters(pta)\n",
    "    if any(gpars):\n",
    "        groups.extend([[params.index(gp) for gp in gpars]])\n",
    "\n",
    "    for sc in pta._signalcollections:\n",
    "        for signal in sc._signals:\n",
    "            ind = [params.index(p) for p in signal.param_names if p not in gpars]\n",
    "            if ind:\n",
    "                groups.extend([ind])\n",
    "    \n",
    "    return groups"
   ]
  },
  {
   "cell_type": "markdown",
   "metadata": {},
   "source": [
    "## Read in pulsar data"
   ]
  },
  {
   "cell_type": "code",
   "execution_count": null,
   "metadata": {
    "collapsed": true
   },
   "outputs": [],
   "source": [
    "psr_name = 'J1744-1134'\n",
    "psr = Pulsar('../EPTA_v2.2_git/{0}/{0}.par'.format(psr_name), '../EPTA_v2.2_git/{0}/{0}_all.tim'.format(psr_name))"
   ]
  },
  {
   "cell_type": "code",
   "execution_count": null,
   "metadata": {},
   "outputs": [],
   "source": []
  },
  {
   "cell_type": "markdown",
   "metadata": {},
   "source": [
    "## Setup model\n",
    "\n",
    "We will add some addition model components that are not part of the base enterprise"
   ]
  },
  {
   "cell_type": "markdown",
   "metadata": {},
   "source": [
    "### 1. Exponential decay function to model \"void\" in J1713+0747"
   ]
  },
  {
   "cell_type": "code",
   "execution_count": null,
   "metadata": {
    "collapsed": true
   },
   "outputs": [],
   "source": [
    "@signal_base.function\n",
    "def exp_decay(toas, freqs, log10_Amp=-7, t0=54000, log10_tau=1.7):\n",
    "    t0 *= const.day\n",
    "    tau = 10**log10_tau * const.day\n",
    "    wf = - 10**log10_Amp * np.heaviside(toas-t0, 1) * np.exp(-(toas-t0)/tau)\n",
    "    return wf * (1400/freqs)**2"
   ]
  },
  {
   "cell_type": "markdown",
   "metadata": {},
   "source": [
    "### 2. Yearly DM sinusoid"
   ]
  },
  {
   "cell_type": "code",
   "execution_count": null,
   "metadata": {
    "collapsed": true
   },
   "outputs": [],
   "source": [
    "@signal_base.function\n",
    "def yearly_sinusoid(toas, freqs, log10_Amp=-7, phase=0):\n",
    "\n",
    "    wf = 10**log10_Amp * np.sin(2*np.pi*const.fyr*toas+phase)\n",
    "    return wf * (1400/freqs)**2\n",
    "\n",
    "@signal_base.function\n",
    "def yearly_sinusoid_basis(toas, freqs):\n",
    "    \n",
    "    F = np.zeros((len(toas), 2))\n",
    "    F[:,0] = np.sin(2*np.pi*toas*const.fyr)\n",
    "    F[:,1] = np.cos(2*np.pi*toas*const.fyr)\n",
    "    \n",
    "    Dm = (1400/freqs)**2\n",
    "\n",
    "    return F * Dm[:, None], np.repeat(const.fyr, 2)\n",
    "\n",
    "@signal_base.function\n",
    "def yearly_sinusoid_prior(f):\n",
    "    return np.ones(len(f)) * 1e20"
   ]
  },
  {
   "cell_type": "markdown",
   "metadata": {},
   "source": [
    "### 3. DM EQUAD (EQUAD) term that scales like $\\nu^{-4}$ (variance remember...)"
   ]
  },
  {
   "cell_type": "code",
   "execution_count": null,
   "metadata": {
    "collapsed": true
   },
   "outputs": [],
   "source": [
    "# define DM EQUAD variance function\n",
    "@signal_base.function\n",
    "def dmequad_ndiag(freqs, log10_dmequad=-8):\n",
    "    return np.ones_like(freqs) * (1400/freqs)**4 * 10**(2*log10_dmequad)"
   ]
  },
  {
   "cell_type": "markdown",
   "metadata": {},
   "source": [
    "### 4. SVD timing model basis\n",
    "This allows for more stability over standard scaling methods"
   ]
  },
  {
   "cell_type": "code",
   "execution_count": null,
   "metadata": {
    "collapsed": true
   },
   "outputs": [],
   "source": [
    "# SVD timing model basis\n",
    "@signal_base.function\n",
    "def svd_tm_basis(Mmat):\n",
    "    u, s, v = np.linalg.svd(Mmat, full_matrices=False)\n",
    "    return u, np.ones_like(s)\n",
    "\n",
    "@signal_base.function\n",
    "def tm_prior(weights):\n",
    "    return weights * 10**40"
   ]
  },
  {
   "cell_type": "code",
   "execution_count": null,
   "metadata": {
    "collapsed": true
   },
   "outputs": [],
   "source": [
    "# define selection by observing backend\n",
    "selection1 = selections.Selection(selections.by_backend)\n",
    "\n",
    "# special selection for ECORR only use wideband NANOGrav data\n",
    "selection2 = selections.Selection(selections.nanograv_backends)\n",
    "\n",
    "# white noise parameters\n",
    "#efac = parameter.Uniform(0.5, 10.0)\n",
    "efac = parameter.Normal(1.0, 0.1)\n",
    "equad = parameter.Uniform(-10, -4)\n",
    "ecorr = parameter.Uniform(-10, -4)\n",
    "\n",
    "# red noise and DM parameters\n",
    "log10_A = parameter.Uniform(-20, -11)\n",
    "gamma = parameter.Uniform(0, 7)\n",
    "\n",
    "# DM turnover parameters\n",
    "kappa = parameter.Uniform(0,7)\n",
    "lf0 = parameter.Uniform(-9, -6.5)\n",
    "\n",
    "# DM exponential parameters\n",
    "t0 = parameter.Uniform(psr.toas.min()/86400, psr.toas.max()/86400)\n",
    "log10_Amp = parameter.Uniform(-10, -2)\n",
    "log10_tau = parameter.Uniform(np.log10(5), np.log10(500))\n",
    "\n",
    "# DM EQUAD\n",
    "dmvariance = dmequad_ndiag(log10_dmequad=equad)\n",
    "dmeq = white_signals.WhiteNoise(dmvariance)\n",
    "\n",
    "# white noise signals\n",
    "#ef = white_signals.MeasurementNoise(efac=efac, selection=selection1)\n",
    "#eq = white_signals.EquadNoise(log10_equad=equad, selection=selection1)\n",
    "#ec = white_signals.EcorrKernelNoise(log10_ecorr=ecorr, selection=selection2)\n",
    "ef = white_signals.MeasurementNoise(efac=efac)\n",
    "eq = white_signals.EquadNoise(log10_equad=equad)\n",
    "ec = white_signals.EcorrKernelNoise(log10_ecorr=ecorr)\n",
    "\n",
    "# red noise signal\n",
    "pl = utils.powerlaw(log10_A=log10_A, gamma=gamma)\n",
    "rn = gp_signals.FourierBasisGP(pl, components=30)\n",
    "\n",
    "# DM GP signals (use turnover model for more flexibility)\n",
    "dm_basis = utils.createfourierdesignmatrix_dm(nmodes=30)\n",
    "dm_prior = utils.turnover(log10_A=log10_A, gamma=gamma, lf0=lf0, kappa=kappa)\n",
    "dmgp = gp_signals.BasisGP(dm_prior, dm_basis, name='dm')\n",
    "\n",
    "# DM exponential model\n",
    "wf = exp_decay(log10_Amp=log10_Amp, t0=t0, log10_tau=log10_tau)\n",
    "dmexp = deterministic_signals.Deterministic(wf, name='exp')\n",
    "\n",
    "# DM sinusoid model\n",
    "ys_prior = yearly_sinusoid_prior()\n",
    "ys_basis = yearly_sinusoid_basis()\n",
    "dmys = gp_signals.BasisGP(ys_prior, ys_basis, name='s1yr')\n",
    "\n",
    "# timing model\n",
    "basis = svd_tm_basis()\n",
    "prior = tm_prior()\n",
    "#tm = gp_signals.BasisGP(prior, basis)\n",
    "tm = gp_signals.TimingModel()\n",
    "\n",
    "# full model\n",
    "s = ef + eq + rn + dmgp + tm + dmys\n",
    "#if 'NANOGrav' in psr.flags['pta']:\n",
    "#    s += ec\n",
    "if psr.name == 'J1713+0747':\n",
    "    s += dmexp\n",
    "\n",
    "# set up PTA of one\n",
    "pta = signal_base.PTA([s(psr)])\n"
   ]
  },
  {
   "cell_type": "code",
   "execution_count": null,
   "metadata": {},
   "outputs": [],
   "source": []
  },
  {
   "cell_type": "code",
   "execution_count": null,
   "metadata": {},
   "outputs": [],
   "source": [
    "# dimension of parameter space\n",
    "x0 = np.hstack(p.sample() for p in pta.params)\n",
    "ndim = len(x0)\n",
    "\n",
    "# initial jump covariance matrix\n",
    "cov = np.diag(np.ones(ndim) * 0.1**2)\n",
    "\n",
    "## change initial jump size for tau\n",
    "#idx = pta.param_names.index('J1713+0747_exp_t0')\n",
    "#cov[idx, idx] = 100\n",
    "\n",
    "# parameter groupings\n",
    "groups = get_parameter_groups(pta)\n",
    "\n",
    "outdir = 'chains/{0}_noise/'.format(psr_name)\n",
    "sampler = ptmcmc(ndim, pta.get_lnlikelihood, pta.get_lnprior, cov, groups=groups, \n",
    "                 outDir=outdir, resume=True)\n",
    "np.savetxt(outdir+'/pars.txt', map(str, pta.param_names), fmt='%s')\n",
    "\n",
    "# add prior draw to proposal cycle\n",
    "jp = JumpProposal(pta)\n",
    "sampler.addProposalToCycle(jp.draw_from_prior, 15)"
   ]
  },
  {
   "cell_type": "code",
   "execution_count": null,
   "metadata": {},
   "outputs": [],
   "source": [
    "N = 1000000\n",
    "sampler.sample(x0, N, SCAMweight=35, AMweight=10, DEweight=50)"
   ]
  },
  {
   "cell_type": "code",
   "execution_count": null,
   "metadata": {
    "collapsed": true
   },
   "outputs": [],
   "source": [
    "#chain = np.loadtxt('chains/J1713+0747_standard/chain_1.txt')\n",
    "#burn = int(0.25*chain.shape[0])\n",
    "\n",
    "chain = np.loadtxt('chains/{0}_noise/chain_1.txt'.format(psr_name))\n",
    "burn = int(0.25*chain.shape[0])\n",
    "pars = pta.param_names\n",
    "\n",
    "#chain2 = np.loadtxt('chains/J0437-4715_tm/chain_1.txt')\n",
    "#burn2 = int(0.25*chain2.shape[0])"
   ]
  },
  {
   "cell_type": "code",
   "execution_count": null,
   "metadata": {
    "collapsed": true
   },
   "outputs": [],
   "source": [
    "def make_noise_files(psrname, chain, pars, outdir='noisefiles/'):\n",
    "    x = {}\n",
    "    for ct, par in enumerate(pars):\n",
    "        x[par] = np.median(chain[:, ct])\n",
    "\n",
    "    os.system('mkdir -p {}'.format(outdir))\n",
    "    with open(outdir + '/{}_noise.json'.format(psrname), 'w') as fout:\n",
    "        json.dump(x, fout, sort_keys=True, indent=4, separators=(',', ': '))"
   ]
  },
  {
   "cell_type": "code",
   "execution_count": null,
   "metadata": {
    "collapsed": true
   },
   "outputs": [],
   "source": [
    "make_noise_files(psrname=psr_name,chain=chain,pars=pars)"
   ]
  },
  {
   "cell_type": "code",
   "execution_count": null,
   "metadata": {
    "collapsed": true
   },
   "outputs": [],
   "source": []
  },
  {
   "cell_type": "code",
   "execution_count": null,
   "metadata": {
    "collapsed": true
   },
   "outputs": [],
   "source": []
  }
 ],
 "metadata": {
  "kernelspec": {
   "display_name": "Python 2",
   "language": "python",
   "name": "python2"
  },
  "language_info": {
   "codemirror_mode": {
    "name": "ipython",
    "version": 2
   },
   "file_extension": ".py",
   "mimetype": "text/x-python",
   "name": "python",
   "nbconvert_exporter": "python",
   "pygments_lexer": "ipython2",
   "version": "2.7.13"
  },
  "toc": {
   "nav_menu": {},
   "number_sections": true,
   "sideBar": true,
   "skip_h1_title": false,
   "toc_cell": false,
   "toc_position": {},
   "toc_section_display": "block",
   "toc_window_display": false
  }
 },
 "nbformat": 4,
 "nbformat_minor": 2
}
